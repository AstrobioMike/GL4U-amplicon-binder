{
 "cells": [
  {
   "cell_type": "markdown",
   "id": "8704685d-e7f1-4d46-903e-cc3e877f93f5",
   "metadata": {
    "deletable": false,
    "editable": false,
    "tags": []
   },
   "source": [
    "<hr style=\"height:0px; visibility:hidden;\" />\n",
    "\n",
    "<h1><center>5. Amplicon analysis</center></h1>\n",
    "\n",
    "**Pending**\n",
    "\n",
    "<br>\n",
    "\n",
    "---\n",
    "---\n",
    "\n",
    "<a href=\"04-amplicon-processing.ipynb\"><b>Previous:</b> 4. Amplicon processing</a>\n",
    "\n",
    "<div align=\"right\"><a href=”00-overview.ipynb”><b>Back to:</b> Overview</a></div>\n",
    "\n",
    "---\n"
   ]
  }
 ],
 "metadata": {
  "kernelspec": {
   "display_name": "Bash",
   "language": "bash",
   "name": "bash"
  },
  "language_info": {
   "codemirror_mode": "shell",
   "file_extension": ".sh",
   "mimetype": "text/x-sh",
   "name": "bash"
  }
 },
 "nbformat": 4,
 "nbformat_minor": 5
}
