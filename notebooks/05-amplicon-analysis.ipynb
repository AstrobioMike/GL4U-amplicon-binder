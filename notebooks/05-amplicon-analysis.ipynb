{
 "cells": [
  {
   "cell_type": "markdown",
   "id": "8704685d-e7f1-4d46-903e-cc3e877f93f5",
   "metadata": {
    "deletable": false,
    "editable": false,
    "tags": []
   },
   "source": [
    "<hr style=\"height:0px; visibility:hidden;\" />\n",
    "\n",
    "<h1><center>5. Amplicon analysis</center></h1>\n",
    "\n",
    "**Pending**\n",
    "\n",
    "<br>\n",
    "\n",
    "---\n",
    "---\n",
    "\n",
    "[**Previous:** 4. Amplicon processing](04-amplicon-processing.ipynb)\n",
    "<br>\n",
    "\n",
    "[**Back to:** Overview](00-overview.ipynb)\n",
    "\n",
    "---\n"
   ]
  }
 ],
 "metadata": {
  "kernelspec": {
   "display_name": "Bash",
   "language": "bash",
   "name": "bash"
  },
  "language_info": {
   "codemirror_mode": "shell",
   "file_extension": ".sh",
   "mimetype": "text/x-sh",
   "name": "bash"
  }
 },
 "nbformat": 4,
 "nbformat_minor": 5
}
