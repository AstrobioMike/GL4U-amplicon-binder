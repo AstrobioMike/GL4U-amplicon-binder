{
 "cells": [
  {
   "cell_type": "markdown",
   "id": "72030809-0cca-406b-acce-34dd71d9bddb",
   "metadata": {
    "deletable": false,
    "editable": false,
    "tags": []
   },
   "source": [
    "<hr style=\"height:0px; visibility:hidden;\" />\n",
    "\n",
    "<h1><center>1. An introduction to Jupyter</center></h1>\n",
    "\n",
    "**Jupyter Lab**\n",
    "\n",
    "**PENDING**\n",
    "\n",
    "**Jupyter Notebook**\n",
    "\n",
    "**PENDING**\n",
    "\n",
    "<br>\n",
    "\n",
    "---\n",
    "---\n",
    "\n",
    "[**Back to:** Overview](00-overview.ipynb)\n",
    "<br>\n",
    "\n",
    "[**Next:** 2. Unix intro](02-unix-intro.ipynb)\n",
    "\n",
    "---\n"
   ]
  }
 ],
 "metadata": {
  "kernelspec": {
   "display_name": "Bash",
   "language": "bash",
   "name": "bash"
  },
  "language_info": {
   "codemirror_mode": "shell",
   "file_extension": ".sh",
   "mimetype": "text/x-sh",
   "name": "bash"
  }
 },
 "nbformat": 4,
 "nbformat_minor": 5
}
