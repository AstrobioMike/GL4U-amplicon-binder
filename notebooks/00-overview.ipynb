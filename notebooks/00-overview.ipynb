{
 "cells": [
  {
   "cell_type": "markdown",
   "id": "72030809-0cca-406b-acce-34dd71d9bddb",
   "metadata": {
    "deletable": false,
    "editable": false,
    "tags": []
   },
   "source": [
    "<hr style=\"height:0px; visibility:hidden;\" />\n",
    "\n",
    "<h1><center>Welcome to the GL4U Amplicon Bootcamp!</center></h1>\n",
    "\n",
    "**TEXT TO BE ADDED**\n",
    "\n",
    "---\n",
    "\n",
    "## So let's get to it!\n",
    "\n",
    "1. [Jupyter introduction](01-jupyter-intro.ipynb)\n",
    "2. [Unix introduction](02-unix-intro.ipynb)\n",
    "3. [R introduction](03-R-intro.ipynb)\n",
    "4. [Amplicon processing](04-amplicon-processing.ipynb)\n",
    "5. [Amplicon analysis](05-amplicon-analysis.ipynb)\n",
    "\n",
    "\n",
    "---\n",
    "---\n",
    "\n",
    "[**Next:** 1. Jupyter intro](01-jupyter-intro.ipynb)\n",
    "    \n",
    "---"
   ]
  }
 ],
 "metadata": {
  "kernelspec": {
   "display_name": "Bash",
   "language": "bash",
   "name": "bash"
  },
  "language_info": {
   "codemirror_mode": "shell",
   "file_extension": ".sh",
   "mimetype": "text/x-sh",
   "name": "bash"
  }
 },
 "nbformat": 4,
 "nbformat_minor": 5
}
