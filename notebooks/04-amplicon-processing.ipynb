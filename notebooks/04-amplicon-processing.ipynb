{
 "cells": [
  {
   "cell_type": "markdown",
   "id": "96c8df94-6de5-4b7d-b879-9b87a72ec3c6",
   "metadata": {
    "deletable": false,
    "editable": false,
    "tags": []
   },
   "source": [
    "<hr style=\"height:0px; visibility:hidden;\" />\n",
    "\n",
    "<h1><center>4. Amplicon processing</center></h1>\n",
    "\n",
    "**Pending**\n",
    "\n",
    "<br>\n",
    "\n",
    "---\n",
    "---\n",
    "\n",
    "[**Previous:** 3. R intro](03-R-intro.ipynb)\n",
    "<br>\n",
    "\n",
    "[**Next:** 5. Amplicon analysis](05-amplicon-analysis.ipynb)\n",
    "\n",
    "---\n"
   ]
  }
 ],
 "metadata": {
  "kernelspec": {
   "display_name": "Bash",
   "language": "bash",
   "name": "bash"
  },
  "language_info": {
   "codemirror_mode": "shell",
   "file_extension": ".sh",
   "mimetype": "text/x-sh",
   "name": "bash"
  }
 },
 "nbformat": 4,
 "nbformat_minor": 5
}
